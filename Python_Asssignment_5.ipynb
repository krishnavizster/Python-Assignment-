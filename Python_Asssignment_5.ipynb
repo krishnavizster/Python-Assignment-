{
 "cells": [
  {
   "cell_type": "markdown",
   "id": "fd5014b0",
   "metadata": {},
   "source": [
    "Python_Asssignment_5"
   ]
  },
  {
   "cell_type": "markdown",
   "id": "01d2fb48",
   "metadata": {},
   "source": [
    "1. What does an empty dictionary's code look like?"
   ]
  },
  {
   "cell_type": "code",
   "execution_count": null,
   "id": "38cd6789",
   "metadata": {},
   "outputs": [],
   "source": [
    "#Ans:\n",
    "the dictionary should be set to {}"
   ]
  },
  {
   "cell_type": "markdown",
   "id": "3c8e8af5",
   "metadata": {},
   "source": [
    "2. What is the value of a dictionary value with the key 'foo' and the value 42?"
   ]
  },
  {
   "cell_type": "code",
   "execution_count": null,
   "id": "960b0710",
   "metadata": {},
   "outputs": [],
   "source": [
    "#Ans:\n",
    "{'foo': 42}\n",
    "The items stored in a dictionary are unordered, while the items in a list are ordered"
   ]
  },
  {
   "cell_type": "markdown",
   "id": "f0f93658",
   "metadata": {},
   "source": [
    "3. What is the most significant distinction between a dictionary and a list?"
   ]
  },
  {
   "cell_type": "code",
   "execution_count": null,
   "id": "0ca60e4f",
   "metadata": {},
   "outputs": [],
   "source": [
    "#Ans:\n",
    "The items stored in a dictionary are unordered, while the items in a list are ordered."
   ]
  },
  {
   "cell_type": "markdown",
   "id": "98aa1398",
   "metadata": {},
   "source": [
    "4. What happens if you try to access spam['foo'] if spam is {'bar': 100}?"
   ]
  },
  {
   "cell_type": "code",
   "execution_count": null,
   "id": "b8615e11",
   "metadata": {},
   "outputs": [],
   "source": [
    "#Ans:\n",
    "You get a KeyError error.\n"
   ]
  },
  {
   "cell_type": "markdown",
   "id": "632d30fc",
   "metadata": {},
   "source": [
    "5. If a dictionary is stored in spam, what is the difference between the expressions 'cat' in spam and 'cat' in spam.keys()?"
   ]
  },
  {
   "cell_type": "code",
   "execution_count": null,
   "id": "4806fa2f",
   "metadata": {},
   "outputs": [],
   "source": [
    "#Ans:\n",
    "There is no difference. The in operator checks whether a value exists as a key in the dictionary."
   ]
  },
  {
   "cell_type": "markdown",
   "id": "32e9382a",
   "metadata": {},
   "source": [
    "6. If a dictionary is stored in spam, what is the difference between the expressions 'cat' in spam and 'cat' in spam.values()?"
   ]
  },
  {
   "cell_type": "code",
   "execution_count": null,
   "id": "bc9d0edd",
   "metadata": {},
   "outputs": [],
   "source": [
    "#Ans:\n",
    "'cat' in spam checks whether there is a 'cat' key in the dictionary,\n",
    "while 'cat' in spam.values() checks whether there is a value 'cat' for one of the keys in spam."
   ]
  },
  {
   "cell_type": "markdown",
   "id": "91e84239",
   "metadata": {},
   "source": [
    "7. What is a shortcut for the following code?\n",
    "if 'color' not in spam:\n",
    "spam['color'] = 'black'\n"
   ]
  },
  {
   "cell_type": "code",
   "execution_count": null,
   "id": "8bb3f825",
   "metadata": {},
   "outputs": [],
   "source": [
    "#Ans:\n",
    "spam.setdefault('color', 'black')"
   ]
  },
  {
   "cell_type": "markdown",
   "id": "f292ad20",
   "metadata": {},
   "source": [
    "8. How do you \"pretty print\" dictionary values using which module and function?"
   ]
  },
  {
   "cell_type": "code",
   "execution_count": null,
   "id": "ba512221",
   "metadata": {},
   "outputs": [],
   "source": [
    "#Ans:\n",
    "pprint.pprint()"
   ]
  },
  {
   "cell_type": "code",
   "execution_count": null,
   "id": "661f52e5",
   "metadata": {},
   "outputs": [],
   "source": []
  }
 ],
 "metadata": {
  "kernelspec": {
   "display_name": "Python 3",
   "language": "python",
   "name": "python3"
  },
  "language_info": {
   "codemirror_mode": {
    "name": "ipython",
    "version": 3
   },
   "file_extension": ".py",
   "mimetype": "text/x-python",
   "name": "python",
   "nbconvert_exporter": "python",
   "pygments_lexer": "ipython3",
   "version": "3.8.8"
  }
 },
 "nbformat": 4,
 "nbformat_minor": 5
}
