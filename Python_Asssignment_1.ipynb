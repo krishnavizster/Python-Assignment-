{
 "cells": [
  {
   "cell_type": "markdown",
   "id": "ccc7689c",
   "metadata": {},
   "source": [
    "Python_Asssignment_1"
   ]
  },
  {
   "cell_type": "markdown",
   "id": "e4fc8944",
   "metadata": {},
   "source": [
    "1. In the below elements which of them are values or an expression? eg:- values can be integer or string and expressions will be mathematical operators.\n",
    "(a) * \n",
    "(b)'hello'\n",
    "(c)-87.8\n",
    "(d) - \n",
    "(e) / \n",
    "(f) 6 "
   ]
  },
  {
   "cell_type": "code",
   "execution_count": null,
   "id": "bb9effbb",
   "metadata": {},
   "outputs": [],
   "source": [
    "#Answer:\n",
    "\n",
    "(a)Expression  \n",
    "(b)String\n",
    "(c)Float \n",
    "(d)Expression\n",
    "(e)Expression \n",
    "(f)  integer "
   ]
  },
  {
   "cell_type": "markdown",
   "id": "4728ec1f",
   "metadata": {},
   "source": [
    "2. What is the difference between string and variable?"
   ]
  },
  {
   "cell_type": "code",
   "execution_count": null,
   "id": "b1421dba",
   "metadata": {},
   "outputs": [],
   "source": [
    "#Ans:\n",
    "String contains alphabets \n",
    "Variable stores data \n"
   ]
  },
  {
   "cell_type": "markdown",
   "id": "39deb9de",
   "metadata": {},
   "source": [
    "3. Describe three different data types."
   ]
  },
  {
   "cell_type": "code",
   "execution_count": null,
   "id": "a3e878ed",
   "metadata": {},
   "outputs": [],
   "source": [
    "#Ans: \n",
    "Integer, Float, String "
   ]
  },
  {
   "cell_type": "markdown",
   "id": "ccd7bfdb",
   "metadata": {},
   "source": [
    "4. What is an expression made up of? What do all expressions do?"
   ]
  },
  {
   "cell_type": "code",
   "execution_count": null,
   "id": "453e59fa",
   "metadata": {},
   "outputs": [],
   "source": [
    "#Ans:\n",
    "Expressions is a combination of values, variables, operators and mathematical symbols; expressions will evaluate values. "
   ]
  },
  {
   "cell_type": "markdown",
   "id": "f07d542e",
   "metadata": {},
   "source": [
    "5. This assignment statements, like spam = 10. What is the difference between an expression and a statement?"
   ]
  },
  {
   "cell_type": "code",
   "execution_count": null,
   "id": "8bce5d54",
   "metadata": {},
   "outputs": [],
   "source": [
    "#Ans: \n",
    "Expression is combination of symbols contained values; statement is programming instruction that will do something i.e some action will takes place. "
   ]
  },
  {
   "cell_type": "markdown",
   "id": "2ab0059f",
   "metadata": {},
   "source": [
    "6. After running the following code, what does the variable bacon contain?\n",
    "bacon = 22\n",
    "bacon + 1\n"
   ]
  },
  {
   "cell_type": "code",
   "execution_count": null,
   "id": "fe325dcc",
   "metadata": {},
   "outputs": [],
   "source": [
    "#Ans: \n",
    "23 "
   ]
  },
  {
   "cell_type": "markdown",
   "id": "1a04e084",
   "metadata": {},
   "source": [
    "7. What should the values of the following two terms be?\n",
    "'spam' + 'spamspam'\n",
    "'spam' * 3\n"
   ]
  },
  {
   "cell_type": "code",
   "execution_count": null,
   "id": "be8ef845",
   "metadata": {},
   "outputs": [],
   "source": [
    "#Ans: \n",
    "'spamspamspam'\n",
    "'spamspamspam’\n"
   ]
  },
  {
   "cell_type": "markdown",
   "id": "883d6724",
   "metadata": {},
   "source": [
    "8. Why is eggs a valid variable name while 100 is invalid?"
   ]
  },
  {
   "cell_type": "code",
   "execution_count": null,
   "id": "062621b5",
   "metadata": {},
   "outputs": [],
   "source": [
    "#Ans: \n",
    "100 is a integer value , variable name cannot be begin with number."
   ]
  },
  {
   "cell_type": "markdown",
   "id": "e6d97407",
   "metadata": {},
   "source": [
    "9. What three functions can be used to get the integer, floating-point number, or string version of a value?"
   ]
  },
  {
   "cell_type": "code",
   "execution_count": null,
   "id": "fcda494a",
   "metadata": {},
   "outputs": [],
   "source": [
    "#Ans: \n",
    "int() , float() , and str( )"
   ]
  },
  {
   "cell_type": "markdown",
   "id": "260b99d9",
   "metadata": {},
   "source": [
    "10. Why does this expression cause an error? How can you fix it?\n",
    "'I have eaten ' + 99 + ' burritos.'\n",
    "Because two are strings and one integer \n"
   ]
  },
  {
   "cell_type": "code",
   "execution_count": null,
   "id": "1bb0ee8c",
   "metadata": {},
   "outputs": [],
   "source": [
    "#Ans: \n",
    "We can fix by changing the integer value by string like ‘99’ or str(99)\n",
    "'I have eaten ' + str(99) + ' burritos.'\n"
   ]
  },
  {
   "cell_type": "code",
   "execution_count": null,
   "id": "a1c739e1",
   "metadata": {},
   "outputs": [],
   "source": []
  },
  {
   "cell_type": "code",
   "execution_count": null,
   "id": "1c494e67",
   "metadata": {},
   "outputs": [],
   "source": []
  }
 ],
 "metadata": {
  "kernelspec": {
   "display_name": "Python 3",
   "language": "python",
   "name": "python3"
  },
  "language_info": {
   "codemirror_mode": {
    "name": "ipython",
    "version": 3
   },
   "file_extension": ".py",
   "mimetype": "text/x-python",
   "name": "python",
   "nbconvert_exporter": "python",
   "pygments_lexer": "ipython3",
   "version": "3.8.8"
  }
 },
 "nbformat": 4,
 "nbformat_minor": 5
}
