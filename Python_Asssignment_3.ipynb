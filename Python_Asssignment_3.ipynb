{
 "cells": [
  {
   "cell_type": "markdown",
   "id": "b53e9be2",
   "metadata": {},
   "source": [
    "Python_Asssignment_3"
   ]
  },
  {
   "cell_type": "markdown",
   "id": "aaaabce7",
   "metadata": {},
   "source": [
    "1. Why are functions advantageous to have in your programs?"
   ]
  },
  {
   "cell_type": "code",
   "execution_count": null,
   "id": "9ba3d6e1",
   "metadata": {},
   "outputs": [],
   "source": [
    "#Ans: \n",
    "reduces the need of duplicates, this will make program shorter and easy read and to update. "
   ]
  },
  {
   "cell_type": "markdown",
   "id": "963e2c91",
   "metadata": {},
   "source": [
    "2. When does the code in a function run: when it's specified or when it's called?"
   ]
  },
  {
   "cell_type": "code",
   "execution_count": null,
   "id": "63d48b64",
   "metadata": {},
   "outputs": [],
   "source": [
    "#Ans: \n",
    "When it’s called "
   ]
  },
  {
   "cell_type": "markdown",
   "id": "922fffe0",
   "metadata": {},
   "source": [
    "3. What statement creates a function?"
   ]
  },
  {
   "cell_type": "code",
   "execution_count": null,
   "id": "a1313082",
   "metadata": {},
   "outputs": [],
   "source": [
    "#Ans: \n",
    "Def statements "
   ]
  },
  {
   "cell_type": "markdown",
   "id": "70fefab1",
   "metadata": {},
   "source": [
    "4. What is the difference between a function and a function call?"
   ]
  },
  {
   "cell_type": "code",
   "execution_count": null,
   "id": "9aafad1e",
   "metadata": {},
   "outputs": [],
   "source": [
    "#Ans: \n",
    "Function consists of Def and code in Def clause \n",
    "        \n",
    "Function call moves program execution into the function and evaluates the function return value. \n"
   ]
  },
  {
   "cell_type": "markdown",
   "id": "f26e2a0d",
   "metadata": {},
   "source": [
    "5. How many global scopes are there in a Python program? How many local scopes?"
   ]
  },
  {
   "cell_type": "code",
   "execution_count": null,
   "id": "23e1e203",
   "metadata": {},
   "outputs": [],
   "source": [
    "#Ans: \n",
    "One global scope, \n",
    "    \n",
    "Local scopes are created whenever a function is called. \n"
   ]
  },
  {
   "cell_type": "markdown",
   "id": "c01f4201",
   "metadata": {},
   "source": [
    "6. What happens to variables in a local scope when the function call returns?"
   ]
  },
  {
   "cell_type": "code",
   "execution_count": null,
   "id": "531a66cf",
   "metadata": {},
   "outputs": [],
   "source": [
    "#Ans:\n",
    "When the function call returns local scope destroys, and variable erased. "
   ]
  },
  {
   "cell_type": "markdown",
   "id": "e80abc4f",
   "metadata": {},
   "source": [
    "7. What is the concept of a return value? Is it possible to have a return value in an expression?"
   ]
  },
  {
   "cell_type": "code",
   "execution_count": null,
   "id": "67d370d9",
   "metadata": {},
   "outputs": [],
   "source": [
    "#Ans: \n",
    "Return value is a value that function call evaluates,\n",
    "Return value can be used as a part of an expression.\n"
   ]
  },
  {
   "cell_type": "markdown",
   "id": "2cb1353c",
   "metadata": {},
   "source": [
    "8. If a function does not have a return statement, what is the return value of a call to that function?"
   ]
  },
  {
   "cell_type": "code",
   "execution_count": null,
   "id": "73744416",
   "metadata": {},
   "outputs": [],
   "source": [
    "#Ans: \n",
    "If a function does not have a return statement, it’s return value will show none "
   ]
  },
  {
   "cell_type": "markdown",
   "id": "abe4478d",
   "metadata": {},
   "source": [
    "9. How do you make a function variable refer to the global variable?"
   ]
  },
  {
   "cell_type": "code",
   "execution_count": null,
   "id": "27969eab",
   "metadata": {},
   "outputs": [],
   "source": [
    "#Ans: \n",
    "if you required to refer a global variable in a function, you opt the global keyword to represent which variables are global variables. "
   ]
  },
  {
   "cell_type": "markdown",
   "id": "b58fead5",
   "metadata": {},
   "source": [
    "10. What is the data type of None?"
   ]
  },
  {
   "cell_type": "code",
   "execution_count": null,
   "id": "74eec58a",
   "metadata": {},
   "outputs": [],
   "source": [
    "#Ans: \n",
    "None type "
   ]
  },
  {
   "cell_type": "markdown",
   "id": "c89fcfcc",
   "metadata": {},
   "source": [
    "11. What does the sentence import areallyourpetsnamederic do?"
   ]
  },
  {
   "cell_type": "code",
   "execution_count": null,
   "id": "8c0daa17",
   "metadata": {},
   "outputs": [],
   "source": [
    "#Ans: \n",
    "That imports and Module/Library if it exists in python library \n"
   ]
  },
  {
   "cell_type": "markdown",
   "id": "2eb2c1b4",
   "metadata": {},
   "source": [
    "12. If you had a bacon() feature in a spam module, what would you call it after importing spam?"
   ]
  },
  {
   "cell_type": "code",
   "execution_count": null,
   "id": "97f0b411",
   "metadata": {},
   "outputs": [],
   "source": [
    "#Ans: \n",
    "spam.bacon()"
   ]
  },
  {
   "cell_type": "markdown",
   "id": "9f067691",
   "metadata": {},
   "source": [
    "13. What can you do to save a programme from crashing if it encounters an error?"
   ]
  },
  {
   "cell_type": "code",
   "execution_count": null,
   "id": "f3c72cce",
   "metadata": {},
   "outputs": [],
   "source": [
    "#Ans:\n",
    "try clause "
   ]
  },
  {
   "cell_type": "markdown",
   "id": "3cf88326",
   "metadata": {},
   "source": [
    "14. What is the purpose of the try clause? What is the purpose of the except clause?"
   ]
  },
  {
   "cell_type": "code",
   "execution_count": null,
   "id": "8b113359",
   "metadata": {},
   "outputs": [],
   "source": [
    "#Ans:\n",
    "the code that have error goes to try clause\n",
    "The code that executes if error happens goes to except clause \n"
   ]
  },
  {
   "cell_type": "code",
   "execution_count": null,
   "id": "2c4fab2a",
   "metadata": {},
   "outputs": [],
   "source": []
  }
 ],
 "metadata": {
  "kernelspec": {
   "display_name": "Python 3",
   "language": "python",
   "name": "python3"
  },
  "language_info": {
   "codemirror_mode": {
    "name": "ipython",
    "version": 3
   },
   "file_extension": ".py",
   "mimetype": "text/x-python",
   "name": "python",
   "nbconvert_exporter": "python",
   "pygments_lexer": "ipython3",
   "version": "3.8.8"
  }
 },
 "nbformat": 4,
 "nbformat_minor": 5
}
