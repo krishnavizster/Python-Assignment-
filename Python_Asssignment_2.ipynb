{
 "cells": [
  {
   "cell_type": "markdown",
   "id": "e71897c9",
   "metadata": {},
   "source": [
    "Python_Asssignment_2"
   ]
  },
  {
   "cell_type": "markdown",
   "id": "9f51ff46",
   "metadata": {},
   "source": [
    "1.What are the two values of the Boolean data type? How do you write them?"
   ]
  },
  {
   "cell_type": "code",
   "execution_count": null,
   "id": "3c418b27",
   "metadata": {},
   "outputs": [],
   "source": [
    "#Ans: \n",
    "True \n",
    "False\n"
   ]
  },
  {
   "cell_type": "markdown",
   "id": "b585dfbb",
   "metadata": {},
   "source": [
    "2. What are the three different types of Boolean operators?"
   ]
  },
  {
   "cell_type": "code",
   "execution_count": null,
   "id": "d02ee14f",
   "metadata": {},
   "outputs": [],
   "source": [
    "#Ans:\n",
    "Three operators are AND, OR, and NOT"
   ]
  },
  {
   "cell_type": "markdown",
   "id": "ffb451c2",
   "metadata": {},
   "source": [
    "3. Make a list of each Boolean operator's truth tables (i.e. every possible combination of Boolean values for the operator and what it evaluate)."
   ]
  },
  {
   "cell_type": "code",
   "execution_count": null,
   "id": "4c4d6e8b",
   "metadata": {},
   "outputs": [],
   "source": [
    "#Solution:\n",
    "True and True is True.\n",
    "True and False is False.\n",
    "False and True is False.\n",
    "False and False is False.\n",
    "True or True is True.\n",
    "True or False is True.\n",
    "False or True is True.\n",
    "False or False is False.\n",
    "not True is False.\n",
    "not False is True.\n"
   ]
  },
  {
   "cell_type": "markdown",
   "id": "d63a5a1a",
   "metadata": {},
   "source": [
    "4. What are the values of the following expressions?\n",
    "(5 > 4) and (3 == 5)\n"
   ]
  },
  {
   "cell_type": "code",
   "execution_count": null,
   "id": "8d1437ad",
   "metadata": {},
   "outputs": [],
   "source": [
    "Ans: False \n",
    "not (5 > 4)\n",
    "Ans: False \n",
    "(5 > 4) or (3 == 5)\n",
    "Ans: True \n",
    "not ((5 > 4) or (3 == 5))\n",
    "Ans: False \n",
    "(True and True) and (True == False)\n",
    "Ans: False \n",
    "(not False) or (not True)\n",
    "Ans: True \n"
   ]
  },
  {
   "cell_type": "markdown",
   "id": "a05500dd",
   "metadata": {},
   "source": [
    "5. What are the six comparison operators?"
   ]
  },
  {
   "cell_type": "code",
   "execution_count": null,
   "id": "4ac00cab",
   "metadata": {},
   "outputs": [],
   "source": [
    "#Ans:\n",
    "Less than(<), Greater than(>), Less than or equal to(<=), Greater than or equal to(>=), Equal to(==) and Not equal to (!=)."
   ]
  },
  {
   "cell_type": "markdown",
   "id": "e86376c1",
   "metadata": {},
   "source": [
    "6. How do you tell the difference between the equal to and assignment operators? Describe a condition and when you would use one."
   ]
  },
  {
   "cell_type": "code",
   "execution_count": null,
   "id": "8152f977",
   "metadata": {},
   "outputs": [],
   "source": [
    "#Ans:\n",
    "Equal To (==) Operator\n",
    "The equal to operator returns True if the values on either side of the operator are equal. \n",
    "5==5\n",
    "Assignment operators(=) are used to assigning value to a variable.\n",
    "X=Y\n"
   ]
  },
  {
   "cell_type": "markdown",
   "id": "4c19009e",
   "metadata": {},
   "source": [
    "7. Identify the three blocks in this code:\n",
    "spam = 0\n",
    "if spam == 10:\n",
    "print('eggs')\n",
    "if spam > 5:\n",
    "print('bacon')\n",
    "else:\n",
    "print('ham')\n",
    "print('spam')\n",
    "print('spam')\n"
   ]
  },
  {
   "cell_type": "code",
   "execution_count": null,
   "id": "5cefd723",
   "metadata": {},
   "outputs": [],
   "source": [
    "#Ans: \n",
    "spam = 0\n",
    "if spam == 10:\n",
    "    print('eggs’) #Indentation \n",
    "if spam > 5:\n",
    "    print('bacon’) #Indentation\n",
    "else:\n",
    "    print('ham’) #Indentation\n",
    "    print('spam')\n",
    "    print('spam')\n"
   ]
  },
  {
   "cell_type": "markdown",
   "id": "7931ef5d",
   "metadata": {},
   "source": [
    "8. Write code that prints Hello if 1 is stored in spam, prints Howdy if 2 is stored in spam, and prints Greetings! if anything else is stored in spam."
   ]
  },
  {
   "cell_type": "code",
   "execution_count": 1,
   "id": "cee3731b",
   "metadata": {},
   "outputs": [
    {
     "name": "stdout",
     "output_type": "stream",
     "text": [
      "Hello\n"
     ]
    }
   ],
   "source": [
    "#Ans: \n",
    "spam=1\n",
    "if spam==1:\n",
    "    print(\"Hello\")\n",
    "elif spam==2:\n",
    "     print(\"Howdy\")\n",
    "else:\n",
    "    print(\"Greetings\")\n"
   ]
  },
  {
   "cell_type": "markdown",
   "id": "20af1654",
   "metadata": {},
   "source": [
    "9.If your programme is stuck in an endless loop, what keys you’ll press?"
   ]
  },
  {
   "cell_type": "code",
   "execution_count": null,
   "id": "558050b7",
   "metadata": {},
   "outputs": [],
   "source": [
    "#Ans: \n",
    "CTRL + C"
   ]
  },
  {
   "cell_type": "markdown",
   "id": "f6c39f4b",
   "metadata": {},
   "source": [
    "10. How can you tell the difference between break and continue?"
   ]
  },
  {
   "cell_type": "code",
   "execution_count": null,
   "id": "9305a93a",
   "metadata": {},
   "outputs": [],
   "source": [
    "#Ans: \n",
    "Break statement stops the loop in which statement is placed like for or while loop, whereas continue skips the single iteration in a loop, like for or while loop. \n"
   ]
  },
  {
   "cell_type": "markdown",
   "id": "0df02c99",
   "metadata": {},
   "source": [
    "11. In a for loop, what is the difference between range(10), range(0, 10), and range(0, 10, 1)?"
   ]
  },
  {
   "cell_type": "code",
   "execution_count": null,
   "id": "1f1f4b84",
   "metadata": {},
   "outputs": [],
   "source": [
    "#Ans: All ranges will give the same output \n",
    "        Range (10) it will print 0 to 9 excluding upper boundary \n",
    "        Range (0,10) it will print 0 to 9 excluding upper boundary \n",
    "        Range (0, 10, 1) it will print 0 to 9 excluding upper boundary \n"
   ]
  },
  {
   "cell_type": "markdown",
   "id": "1fc26a7d",
   "metadata": {},
   "source": [
    "12. Write a short program that prints the numbers 1 to 10 using a for loop. Then write an equivalent program that prints the numbers 1 to 10 using a while loop."
   ]
  },
  {
   "cell_type": "code",
   "execution_count": 4,
   "id": "459f0a2e",
   "metadata": {},
   "outputs": [
    {
     "name": "stdout",
     "output_type": "stream",
     "text": [
      "1\n",
      "2\n",
      "3\n",
      "4\n",
      "5\n",
      "6\n",
      "7\n",
      "8\n",
      "9\n",
      "10\n"
     ]
    }
   ],
   "source": [
    "#Ans: \n",
    "#FOR LOOP\n",
    "for i   in range(1,11):\n",
    "    print(i)\n",
    "\n"
   ]
  },
  {
   "cell_type": "code",
   "execution_count": 5,
   "id": "9189e2f7",
   "metadata": {},
   "outputs": [
    {
     "name": "stdout",
     "output_type": "stream",
     "text": [
      "1\n",
      "2\n",
      "3\n",
      "4\n",
      "5\n",
      "6\n",
      "7\n",
      "8\n",
      "9\n",
      "10\n"
     ]
    }
   ],
   "source": [
    "#WHILE LOOP\n",
    "i=1\n",
    "while(i<=10):\n",
    "    print(i)\n",
    "    i+=1"
   ]
  },
  {
   "cell_type": "markdown",
   "id": "29f66744",
   "metadata": {},
   "source": [
    "13. If you had a function named bacon() inside a module named spam, how would you call it after importing spam?"
   ]
  },
  {
   "cell_type": "code",
   "execution_count": null,
   "id": "2f1ec1af",
   "metadata": {},
   "outputs": [],
   "source": [
    "#Ans: \n",
    "This function can be called with spam.bacon() \n"
   ]
  },
  {
   "cell_type": "code",
   "execution_count": null,
   "id": "a3ff486d",
   "metadata": {},
   "outputs": [],
   "source": []
  }
 ],
 "metadata": {
  "kernelspec": {
   "display_name": "Python 3",
   "language": "python",
   "name": "python3"
  },
  "language_info": {
   "codemirror_mode": {
    "name": "ipython",
    "version": 3
   },
   "file_extension": ".py",
   "mimetype": "text/x-python",
   "name": "python",
   "nbconvert_exporter": "python",
   "pygments_lexer": "ipython3",
   "version": "3.8.8"
  }
 },
 "nbformat": 4,
 "nbformat_minor": 5
}
